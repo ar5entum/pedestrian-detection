{
 "cells": [
  {
   "cell_type": "code",
   "execution_count": 34,
   "metadata": {},
   "outputs": [],
   "source": [
    "import numpy as np\n",
    "import cv2\n",
    "import matplotlib.pyplot as plt\n",
    "%matplotlib inline"
   ]
  },
  {
   "cell_type": "code",
   "execution_count": 35,
   "metadata": {},
   "outputs": [],
   "source": [
    "# Oxford Martin School Webcam - Broad Street, Oxford\n",
    "# https://www.youtube.com/watch?v=St7aTfoIdYQ\n",
    "capture = cv2.VideoCapture('video1.mp4')\n",
    "length = int(capture.get(cv2.CAP_PROP_FRAME_COUNT))\n",
    "\n",
    "output = np.zeros((int(capture.get(cv2.CAP_PROP_FRAME_HEIGHT)),int(capture.get(cv2.CAP_PROP_FRAME_WIDTH))), np.uint8)\n"
   ]
  },
  {
   "cell_type": "code",
   "execution_count": 36,
   "metadata": {},
   "outputs": [],
   "source": [
    "backgroun_subtractor = cv2.createBackgroundSubtractorMOG2()"
   ]
  },
  {
   "cell_type": "code",
   "execution_count": 37,
   "metadata": {},
   "outputs": [],
   "source": [
    "for i in range(120):\n",
    "    ret, frame = capture.read()\n",
    "    filter = backgroun_subtractor.apply(frame)\n",
    "    cv2.imwrite('./frame.jpg', frame)\n",
    "    cv2.imwrite('./diff-bkgnd-frame.jpg', filter)\n",
    "\n",
    "    ret, th = cv2.threshold(filter, 2, 2, cv2.THRESH_BINARY)\n",
    "    output = cv2.add(output, th)\n",
    "    cv2.imwrite('./mask.jpg', output)\n",
    "\n",
    "mask = plt.imread('./mask.jpg')\n",
    "plt.imshow(mask)\n",
    "\n"
   ]
  }
 ],
 "metadata": {
  "kernelspec": {
   "display_name": "Python 3.10.2 64-bit",
   "language": "python",
   "name": "python3"
  },
  "language_info": {
   "codemirror_mode": {
    "name": "ipython",
    "version": 3
   },
   "file_extension": ".py",
   "mimetype": "text/x-python",
   "name": "python",
   "nbconvert_exporter": "python",
   "pygments_lexer": "ipython3",
   "version": "3.10.2"
  },
  "orig_nbformat": 4,
  "vscode": {
   "interpreter": {
    "hash": "ce5c5177f61ed62b640cea01ccc62a1b586fa548c721cd1ee2a892fbcf23b335"
   }
  }
 },
 "nbformat": 4,
 "nbformat_minor": 2
}
